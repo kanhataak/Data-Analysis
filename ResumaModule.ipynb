{
 "cells": [
  {
   "cell_type": "code",
   "execution_count": 1,
   "metadata": {},
   "outputs": [],
   "source": [
    "# data analytic(tablu powerBi,excil), numpy, pandas, matplotlib, beutfulsoup, selenum, "
   ]
  },
  {
   "cell_type": "markdown",
   "metadata": {},
   "source": [
    "# TOP 5 PYTHON LIBRARIES FOR DATA VISUALIZATION\n",
    "* Matplotlib – Plotting and Visualization\n",
    "    * Scatter plots\n",
    "    * Bar charts and Histograms\n",
    "    * Line plots\n",
    "    * Pie charts\n",
    "    * Stem plots\n",
    "    * Contour plots\n",
    "    * Quiver plots\n",
    "    * Spectrograms\n",
    "* Plotly\n",
    "* Seaborn – For Statistical Data Visualization\n",
    "* ggplot\n",
    "* Altair"
   ]
  },
  {
   "cell_type": "markdown",
   "metadata": {},
   "source": [
    "# Top 5 Python Libraries for Data Science\n",
    "* TensorFlow\n",
    "* NumPy\n",
    "* SciPy\n",
    "* Scikit Learn\n",
    "* Pandas\n",
    "* Matplotlib"
   ]
  }
 ],
 "metadata": {
  "kernelspec": {
   "display_name": "Python 3",
   "language": "python",
   "name": "python3"
  },
  "language_info": {
   "codemirror_mode": {
    "name": "ipython",
    "version": 3
   },
   "file_extension": ".py",
   "mimetype": "text/x-python",
   "name": "python",
   "nbconvert_exporter": "python",
   "pygments_lexer": "ipython3",
   "version": "3.7.4"
  }
 },
 "nbformat": 4,
 "nbformat_minor": 2
}
